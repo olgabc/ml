{
 "cells": [
  {
   "cell_type": "code",
   "execution_count": null,
   "metadata": {},
   "outputs": [],
   "source": [
    "import os\n",
    "import tarfile\n",
    "from six.moves import urllib\n",
    "\n",
    "DOWNLOAD_ROOT = \"https://raw.githubusercontent.com/ageron/handson-ml/master/\"\n",
    "TITANIK_PATH = os.path.join(\"datasets\",\"titanik\")\n",
    "TITANIK_URL = DOWNLOAD_ROOT + \"datasets/titanik/titanik.tgz\"\n",
    "\n",
    "def fetch_titanik_data (titanik_url=TITANIK_URL,titanik_path=TITANIK_PATH):\n",
    "    if not os.path.isdir (titanik_path):\n",
    "        os.makedirs (titanik_path)\n",
    "    tgz_path = os.path.join (titanik_path,\"titanik.tgz\")\n",
    "    urllib.request.urlretrieve (titanik_url,tgz_path)\n",
    "    titanik_tgz = tarfile.open (tgz_path)\n",
    "    titanik_tgz.extractall (path=titanik_path)\n",
    "    titanik_tgz.close()"
   ]
  }
 ],
 "metadata": {
  "kernelspec": {
   "display_name": "Python 3",
   "language": "python",
   "name": "python3"
  },
  "language_info": {
   "codemirror_mode": {
    "name": "ipython",
    "version": 3
   },
   "file_extension": ".py",
   "mimetype": "text/x-python",
   "name": "python",
   "nbconvert_exporter": "python",
   "pygments_lexer": "ipython3",
   "version": "3.6.5"
  }
 },
 "nbformat": 4,
 "nbformat_minor": 2
}
